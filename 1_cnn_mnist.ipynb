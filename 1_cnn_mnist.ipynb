{
  "cells": [
    {
      "cell_type": "markdown",
      "metadata": {
        "id": "view-in-github",
        "colab_type": "text"
      },
      "source": [
        "<a href=\"https://colab.research.google.com/github/SU-sumico/dlj/blob/main/1_cnn_mnist.ipynb\" target=\"_parent\"><img src=\"https://colab.research.google.com/assets/colab-badge.svg\" alt=\"Open In Colab\"/></a>"
      ]
    },
    {
      "cell_type": "markdown",
      "source": [
        "深層学習における基本的実装手順\n",
        "1. データの読み込み\n",
        "2. 訓練データと評価データの準備\n",
        "3. アルゴリズムの選択\n",
        "4. 学習\n",
        "5. モデルの評価"
      ],
      "metadata": {
        "id": "Gjez_CgEMcOr"
      }
    },
    {
      "cell_type": "markdown",
      "metadata": {
        "id": "BenxB7rNMViy"
      },
      "source": [
        "目的\n",
        "* KerasでCNNを構築しMNISTの画像分類を行う。"
      ]
    },
    {
      "cell_type": "markdown",
      "metadata": {
        "id": "Zha1gAnxMVi3"
      },
      "source": [
        "プログラムで使用するライブラリ/モジュールのインポート"
      ]
    },
    {
      "cell_type": "code",
      "execution_count": 1,
      "metadata": {
        "id": "SV4n1YfwMVi3"
      },
      "outputs": [],
      "source": [
        "import numpy as np\n",
        "from tensorflow import keras\n",
        "from tensorflow.keras import layers"
      ]
    },
    {
      "cell_type": "markdown",
      "metadata": {
        "id": "BqeamKRxMVi4"
      },
      "source": [
        "データの準備\n",
        "* MNIST のピクセルの情報は、0〜255 の数値で提供されており、0 が白、255に近くにつれて黒になるような数字になっています。 数値計算の都合上、入力を 0〜1の範囲の数値にした方が良いため、データ型を float に変換したのち、255 で割ります。"
      ]
    },
    {
      "cell_type": "markdown",
      "source": [
        "正解データの加工\n",
        "* MNIST の正解データは、対となる画像に何の数字が書かれているかを表す「0」〜「9」の数字を提供してくれています。 しかし、ここで作成する人工知能は前述の通り出力が10個の確率になりますので、今のままでは比較が難しいです。\n",
        "* そこで「0」〜「9」までの数字の形を変換します。 どのように変換するのかといえば、例えば「4」という数字であれば [0,0,0,0,1,0,0,0,0,0] というような、「4」を表す値だけが「1」となるような1次元配列にします。\n",
        "* keras.utils.to_categorical: ラベルデータの整数値を2値クラスの行列に変換（例「整数 1」を「0,1,0,0,0,0,0,0,0,0」と表現\n",
        "* keras.utils.to_categorical: https://keras.io/ja/utils/"
      ],
      "metadata": {
        "id": "76qjTmsr7pi6"
      }
    },
    {
      "cell_type": "code",
      "execution_count": 2,
      "metadata": {
        "id": "pwPOoalXMVi5",
        "colab": {
          "base_uri": "https://localhost:8080/"
        },
        "outputId": "bfd93773-4b8c-4ad5-8431-37dd823952cc"
      },
      "outputs": [
        {
          "output_type": "stream",
          "name": "stdout",
          "text": [
            "Downloading data from https://storage.googleapis.com/tensorflow/tf-keras-datasets/mnist.npz\n",
            "11490434/11490434 [==============================] - 1s 0us/step\n",
            "x_train shape: (60000, 28, 28, 1)\n",
            "60000 train samples\n",
            "10000 test samples\n"
          ]
        }
      ],
      "source": [
        "# データパラメータ\n",
        "num_classes = 10\n",
        "input_shape = (28, 28, 1)\n",
        "\n",
        "# 1. データの読み込み\n",
        "# 2. 訓練データと評価データの準備: 訓練セットとテストセットに分ける\n",
        "(x_train, y_train), (x_test, y_test) = keras.datasets.mnist.load_data()\n",
        "\n",
        "# 画像のピクセルの値を 0~1 の間に正規化\n",
        "x_train = x_train.astype(\"float32\") / 255\n",
        "x_test = x_test.astype(\"float32\") / 255\n",
        "# 画像の形状を確認する（28, 28, 1）\n",
        "x_train = np.expand_dims(x_train, -1)\n",
        "x_test = np.expand_dims(x_test, -1)\n",
        "print(\"x_train shape:\", x_train.shape)\n",
        "print(x_train.shape[0], \"train samples\")\n",
        "print(x_test.shape[0], \"test samples\")\n",
        "\n",
        "# クラスベクトルを2値クラス行列に変換する\n",
        "y_train = keras.utils.to_categorical(y_train, num_classes)\n",
        "y_test = keras.utils.to_categorical(y_test, num_classes)"
      ]
    },
    {
      "cell_type": "markdown",
      "metadata": {
        "id": "rDUYDR-3MVi5"
      },
      "source": [
        "モデルの構築 Sequentialモデル: https://www.tensorflow.org/guide/keras/sequential_model?hl=ja\n",
        "* 画像分類の問題では、Sequential モデルを使って、画像を入力とし、それがどのクラスに属するかを出力することができます。"
      ]
    },
    {
      "cell_type": "code",
      "execution_count": 3,
      "metadata": {
        "id": "v34worHLMVi5",
        "colab": {
          "base_uri": "https://localhost:8080/"
        },
        "outputId": "e9360f08-0156-4d4a-842a-e12550bca41a"
      },
      "outputs": [
        {
          "output_type": "stream",
          "name": "stdout",
          "text": [
            "Model: \"sequential\"\n",
            "_________________________________________________________________\n",
            " Layer (type)                Output Shape              Param #   \n",
            "=================================================================\n",
            " conv2d (Conv2D)             (None, 26, 26, 32)        320       \n",
            "                                                                 \n",
            " max_pooling2d (MaxPooling2  (None, 13, 13, 32)        0         \n",
            " D)                                                              \n",
            "                                                                 \n",
            " conv2d_1 (Conv2D)           (None, 11, 11, 64)        18496     \n",
            "                                                                 \n",
            " max_pooling2d_1 (MaxPoolin  (None, 5, 5, 64)          0         \n",
            " g2D)                                                            \n",
            "                                                                 \n",
            " flatten (Flatten)           (None, 1600)              0         \n",
            "                                                                 \n",
            " dropout (Dropout)           (None, 1600)              0         \n",
            "                                                                 \n",
            " dense (Dense)               (None, 10)                16010     \n",
            "                                                                 \n",
            "=================================================================\n",
            "Total params: 34826 (136.04 KB)\n",
            "Trainable params: 34826 (136.04 KB)\n",
            "Non-trainable params: 0 (0.00 Byte)\n",
            "_________________________________________________________________\n"
          ]
        }
      ],
      "source": [
        "# 3. アルゴリズムの選択\n",
        "model = keras.Sequential(\n",
        "    [\n",
        "        keras.Input(shape=input_shape),\n",
        "        layers.Conv2D(32, kernel_size=(3, 3), activation=\"relu\"),\n",
        "        layers.MaxPooling2D(pool_size=(2, 2)),\n",
        "        layers.Conv2D(64, kernel_size=(3, 3), activation=\"relu\"),\n",
        "        layers.MaxPooling2D(pool_size=(2, 2)),\n",
        "        layers.Flatten(),\n",
        "        layers.Dropout(0.5),\n",
        "        layers.Dense(num_classes, activation=\"softmax\"),\n",
        "    ]\n",
        ")\n",
        "\n",
        "model.summary()"
      ]
    },
    {
      "cell_type": "markdown",
      "source": [
        "モデルのコンパイル: https://keras.io/ja/getting-started/sequential-model-guide/\n",
        "* モデルの学習を始める前に、**compileメソッドを用いどのような学習処理を行なうかを設定する必要があります**。compileメソッドは**3つの引数**を取ります。生成したmodelインスタンスから**compileメソッド**を呼びだします。\n",
        " * 最適化アルゴリズム: 引数として、定義されている最適化手法の識別子を文字列として与える（rmspropやadagradなど）、もしくは Optimizerクラスのインスタンスを与えることができます。\n",
        " * 損失関数: モデルが最小化しようとする目的関数です。引数として、定義されている損失関数の識別子を文字列として与える（categorical_crossentropyやmseなど）、もしくは目的関数を関数として与えることができます。\n",
        " * 評価関数のリスト: 分類問題では精度としてmetrics=['accuracy']を指定したくなるでしょう。引数として、定義されている評価関数の識別子を文字列として与える、もしくは自分で定義した関数を関数として与えることができます。"
      ],
      "metadata": {
        "id": "-WXcvmR6zaAN"
      }
    },
    {
      "cell_type": "markdown",
      "metadata": {
        "id": "d6uY-R8kMVi6"
      },
      "source": [
        "学習の実行\n",
        "* 学習するには、生成したmodelインスタンスから**fit()メソッド**を呼びだします。\n",
        "* model.fit(入力データ、正解ラベル、バッチサイズ、エポック数）\n",
        "* バッチサイズを小さくすると消費メモリが少なくて済むが、うまく動かなくなる。\n",
        "* エポックは学習の繰り返す数"
      ]
    },
    {
      "cell_type": "markdown",
      "source": [
        "* メソッド, compile, fit, evaluate: https://keras.io/ja/models/model/"
      ],
      "metadata": {
        "id": "z5jragByu96W"
      }
    },
    {
      "cell_type": "code",
      "execution_count": 4,
      "metadata": {
        "id": "idJwoya8MVi6",
        "colab": {
          "base_uri": "https://localhost:8080/"
        },
        "outputId": "30dd3446-dc66-4128-c05c-57ecddc65674"
      },
      "outputs": [
        {
          "output_type": "stream",
          "name": "stdout",
          "text": [
            "Epoch 1/15\n",
            "422/422 [==============================] - 16s 6ms/step - loss: 0.3451 - accuracy: 0.8941 - val_loss: 0.0784 - val_accuracy: 0.9795\n",
            "Epoch 2/15\n",
            "422/422 [==============================] - 2s 5ms/step - loss: 0.1106 - accuracy: 0.9666 - val_loss: 0.0629 - val_accuracy: 0.9812\n",
            "Epoch 3/15\n",
            "422/422 [==============================] - 3s 6ms/step - loss: 0.0860 - accuracy: 0.9731 - val_loss: 0.0472 - val_accuracy: 0.9870\n",
            "Epoch 4/15\n",
            "422/422 [==============================] - 2s 6ms/step - loss: 0.0718 - accuracy: 0.9781 - val_loss: 0.0461 - val_accuracy: 0.9877\n",
            "Epoch 5/15\n",
            "422/422 [==============================] - 2s 5ms/step - loss: 0.0632 - accuracy: 0.9799 - val_loss: 0.0396 - val_accuracy: 0.9898\n",
            "Epoch 6/15\n",
            "422/422 [==============================] - 2s 5ms/step - loss: 0.0568 - accuracy: 0.9819 - val_loss: 0.0370 - val_accuracy: 0.9898\n",
            "Epoch 7/15\n",
            "422/422 [==============================] - 2s 5ms/step - loss: 0.0520 - accuracy: 0.9834 - val_loss: 0.0348 - val_accuracy: 0.9902\n",
            "Epoch 8/15\n",
            "422/422 [==============================] - 2s 6ms/step - loss: 0.0492 - accuracy: 0.9844 - val_loss: 0.0335 - val_accuracy: 0.9918\n",
            "Epoch 9/15\n",
            "422/422 [==============================] - 3s 7ms/step - loss: 0.0453 - accuracy: 0.9855 - val_loss: 0.0344 - val_accuracy: 0.9913\n",
            "Epoch 10/15\n",
            "422/422 [==============================] - 2s 5ms/step - loss: 0.0455 - accuracy: 0.9856 - val_loss: 0.0330 - val_accuracy: 0.9915\n",
            "Epoch 11/15\n",
            "422/422 [==============================] - 2s 5ms/step - loss: 0.0417 - accuracy: 0.9869 - val_loss: 0.0330 - val_accuracy: 0.9920\n",
            "Epoch 12/15\n",
            "422/422 [==============================] - 2s 5ms/step - loss: 0.0397 - accuracy: 0.9876 - val_loss: 0.0301 - val_accuracy: 0.9920\n",
            "Epoch 13/15\n",
            "422/422 [==============================] - 2s 5ms/step - loss: 0.0378 - accuracy: 0.9882 - val_loss: 0.0303 - val_accuracy: 0.9910\n",
            "Epoch 14/15\n",
            "422/422 [==============================] - 3s 7ms/step - loss: 0.0366 - accuracy: 0.9880 - val_loss: 0.0300 - val_accuracy: 0.9922\n",
            "Epoch 15/15\n",
            "422/422 [==============================] - 2s 5ms/step - loss: 0.0334 - accuracy: 0.9892 - val_loss: 0.0283 - val_accuracy: 0.9920\n"
          ]
        },
        {
          "output_type": "execute_result",
          "data": {
            "text/plain": [
              "<keras.src.callbacks.History at 0x7c4412c678b0>"
            ]
          },
          "metadata": {},
          "execution_count": 4
        }
      ],
      "source": [
        "# 4. 学習\n",
        "batch_size = 128\n",
        "epochs = 15\n",
        "\n",
        "model.compile(loss=\"categorical_crossentropy\", optimizer=\"adam\", metrics=[\"accuracy\"])\n",
        "\n",
        "model.fit(x_train, y_train, batch_size=batch_size, epochs=epochs, validation_split=0.1)"
      ]
    },
    {
      "cell_type": "markdown",
      "metadata": {
        "id": "rp4fftkXMVi7"
      },
      "source": [
        "モデルを評価するには、生成したmodelインスタンスから**evaluateメソッド**を呼びだします。"
      ]
    },
    {
      "cell_type": "code",
      "execution_count": 5,
      "metadata": {
        "id": "AyNTG6hlMVi7",
        "colab": {
          "base_uri": "https://localhost:8080/"
        },
        "outputId": "15d2e51c-d6f5-441b-8582-5e2216311a69"
      },
      "outputs": [
        {
          "output_type": "stream",
          "name": "stdout",
          "text": [
            "Test loss: 0.026976974681019783\n",
            "Test accuracy: 0.991100013256073\n"
          ]
        }
      ],
      "source": [
        "# 5. モデルの評価\n",
        "score = model.evaluate(x_test, y_test, verbose=0)\n",
        "print(\"Test loss:\", score[0])\n",
        "print(\"Test accuracy:\", score[1])"
      ]
    }
  ],
  "metadata": {
    "accelerator": "GPU",
    "colab": {
      "provenance": [],
      "include_colab_link": true
    },
    "kernelspec": {
      "display_name": "Python 3",
      "language": "python",
      "name": "python3"
    },
    "language_info": {
      "codemirror_mode": {
        "name": "ipython",
        "version": 3
      },
      "file_extension": ".py",
      "mimetype": "text/x-python",
      "name": "python",
      "nbconvert_exporter": "python",
      "pygments_lexer": "ipython3",
      "version": "3.7.0"
    }
  },
  "nbformat": 4,
  "nbformat_minor": 0
}