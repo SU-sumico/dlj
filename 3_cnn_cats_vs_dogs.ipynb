{
  "cells": [
    {
      "cell_type": "markdown",
      "metadata": {
        "id": "view-in-github",
        "colab_type": "text"
      },
      "source": [
        "<a href=\"https://colab.research.google.com/github/SU-sumico/dlj/blob/main/3_cnn_cats_vs_dogs.ipynb\" target=\"_parent\"><img src=\"https://colab.research.google.com/assets/colab-badge.svg\" alt=\"Open In Colab\"/></a>"
      ]
    },
    {
      "cell_type": "markdown",
      "source": [
        "目的\n",
        "* ネコとイヌの画像データと畳み込みニューラルネットワーク（CNN）を用いて分類を行う。"
      ],
      "metadata": {
        "id": "rS5eLi3xaLbH"
      }
    },
    {
      "cell_type": "markdown",
      "source": [
        "準備\n",
        "* GPUを用いて処理を行うために、上部のメニューバーの「ランタイム」→「ランタイムのタイプを変更」からハードウェアアクセラレータをGPUにしてください。"
      ],
      "metadata": {
        "id": "Z1ZyHmVOafjz"
      }
    },
    {
      "cell_type": "markdown",
      "source": [
        "使用するデータセット\n",
        "* データセットは、RGBカラーの画像、ネコとイヌのクラスに分類されています。\n",
        "https://www.kaggle.com/datasets/karakaggle/kaggle-cat-vs-dog-dataset?resource=download"
      ],
      "metadata": {
        "id": "_V3EGCsRamaY"
      }
    },
    {
      "cell_type": "code",
      "source": [
        "from google.colab import drive\n",
        "drive.mount('/content/drive')"
      ],
      "metadata": {
        "colab": {
          "base_uri": "https://localhost:8080/"
        },
        "id": "jCwdav0-L67K",
        "outputId": "6cd31778-660f-478a-c60c-da578073cfe5"
      },
      "execution_count": null,
      "outputs": [
        {
          "output_type": "stream",
          "name": "stdout",
          "text": [
            "Mounted at /content/drive\n"
          ]
        }
      ]
    },
    {
      "cell_type": "code",
      "execution_count": null,
      "metadata": {
        "colab": {
          "base_uri": "https://localhost:8080/"
        },
        "id": "3JsJZvKrL2lE",
        "outputId": "869468d4-f732-4925-e338-0cee34620469"
      },
      "outputs": [
        {
          "output_type": "stream",
          "name": "stdout",
          "text": [
            "Found 2000 images belonging to 2 classes.\n",
            "Found 800 images belonging to 2 classes.\n"
          ]
        }
      ],
      "source": [
        "from keras.preprocessing.image import ImageDataGenerator\n",
        "\n",
        "img_w, img_h = 150, 150        # 画像をリサイズするときのサイズ\n",
        "batch_size = 32                # ミニバッチのサイズ\n",
        "\n",
        "# 訓練データを読み込んで加工するジェネレータを生成\n",
        "train_datagen = ImageDataGenerator(\n",
        "    rescale=1.0 / 255,         # RGB値を0～1の範囲に変換\n",
        "    rotation_range=15,         # 15度の範囲でランダムに回転させる\n",
        "    zoom_range=0.2,            # ランダムに拡大\n",
        "    horizontal_flip=True       # 水平方向にランダムに反転\n",
        "    )\n",
        "\n",
        "# テストデータを読み込むジェネレータを生成\n",
        "test_datagen = ImageDataGenerator(rescale=1.0 / 255)\n",
        "\n",
        "# 訓練データをミニバッチの数だけ生成\n",
        "train_generator = train_datagen.flow_from_directory(\n",
        "    '/content/drive/MyDrive/Deep learning/3data/train',               # 訓練データのフォルダ\n",
        "    target_size=(img_w, img_h), # 画像をリサイズ\n",
        "    batch_size=batch_size,      # ミニバッチのサイズ\n",
        "    class_mode='binary')        # 二値分類なのでbinaryを指定\n",
        "\n",
        "# テストデータをミニバッチの数だけ生成\n",
        "validation_generator = test_datagen.flow_from_directory(\n",
        "    '/content/drive/MyDrive/Deep learning/3data/validation',          # テストデータのフォルダ\n",
        "    target_size=(img_w, img_h), # 画像をリサイズ\n",
        "    batch_size=batch_size,      # ミニバッチのサイズ\n",
        "    class_mode='binary')        # 二値分類なのでbinaryを指定"
      ]
    },
    {
      "cell_type": "markdown",
      "source": [
        "ImageDataGenerator: https://keras.io/ja/preprocessing/image/\n",
        "* リアルタイムにデータ拡張しながらテンソル画像データのバッチを生成します。また、このジェネレータはデータを無限にループするので、無限にバッチを生成します。"
      ],
      "metadata": {
        "id": "e_7Zg68wMQ9L"
      }
    },
    {
      "cell_type": "markdown",
      "source": [
        "ImageDataGeneratorメソッド\n",
        "\n",
        "flow_from_directory: https://keras.io/ja/preprocessing/image/\n",
        "* ディレクトリへのパスを受け取り、拡張/正規化したデータのバッチを生成します。"
      ],
      "metadata": {
        "id": "1I8Mu8wBUY58"
      }
    },
    {
      "cell_type": "markdown",
      "source": [
        "画像のラベルと番号を確認する方法\n",
        "* ラベルは、flow_from_directoryで指定したディレクトリにある、フォルダの名前が割り当てられます。\n",
        "* ディレクトリに「dog」と「cat」というフォルダがあれば、ラベルは、[dog, cat]になります。\n",
        "* そのラベルには番号が割り振られています。\n",
        "* それを確認するのが、class_indicesの機能です。\n",
        "* label:番号で保存されています。"
      ],
      "metadata": {
        "id": "NHxOp3VLYnYF"
      }
    },
    {
      "cell_type": "code",
      "execution_count": null,
      "metadata": {
        "colab": {
          "base_uri": "https://localhost:8080/"
        },
        "id": "G7p6eGCqL2lI",
        "outputId": "a7d9963e-8962-46ff-d704-272e9991c38b"
      },
      "outputs": [
        {
          "output_type": "stream",
          "name": "stdout",
          "text": [
            "{'cats': 0, 'dogs': 1}\n",
            "{'cats': 0, 'dogs': 1}\n"
          ]
        }
      ],
      "source": [
        "# 正解ラベルを確認\n",
        "print(train_generator.class_indices)\n",
        "print(validation_generator.class_indices)"
      ]
    },
    {
      "cell_type": "markdown",
      "source": [
        "Sequentialモデル: https://keras.io/ja/getting-started/sequential-model-guide/\n",
        "* Kerasでモデルを作成するにはSequentialモデル https://keras.io/ja/getting-started/sequential-model-guide/) を用いる方法とFunctionalAPI (https://keras.io/ja/getting-started/functional-api-guide/) を用いる2つの方法があります。\n",
        "* Sequentialモデルでは、はじめにSequentialクラスのインスタンスを作成します。\n",
        "* そしてaddメソッドを用いてレイヤ(全結合層やCNN層、プーリング層など)を追加していきます。"
      ],
      "metadata": {
        "id": "5pienIFlafQ-"
      }
    },
    {
      "cell_type": "code",
      "execution_count": null,
      "metadata": {
        "colab": {
          "base_uri": "https://localhost:8080/"
        },
        "id": "sTtsiR_tL2lI",
        "outputId": "071cd07c-6390-4ba2-ebb8-eaba79417562"
      },
      "outputs": [
        {
          "output_type": "stream",
          "name": "stdout",
          "text": [
            "Model: \"sequential\"\n",
            "_________________________________________________________________\n",
            " Layer (type)                Output Shape              Param #   \n",
            "=================================================================\n",
            " conv2d (Conv2D)             (None, 150, 150, 32)      896       \n",
            "                                                                 \n",
            " max_pooling2d (MaxPooling2  (None, 75, 75, 32)        0         \n",
            " D)                                                              \n",
            "                                                                 \n",
            " dropout (Dropout)           (None, 75, 75, 32)        0         \n",
            "                                                                 \n",
            " conv2d_1 (Conv2D)           (None, 73, 73, 32)        9248      \n",
            "                                                                 \n",
            " max_pooling2d_1 (MaxPoolin  (None, 36, 36, 32)        0         \n",
            " g2D)                                                            \n",
            "                                                                 \n",
            " dropout_1 (Dropout)         (None, 36, 36, 32)        0         \n",
            "                                                                 \n",
            " conv2d_2 (Conv2D)           (None, 34, 34, 64)        18496     \n",
            "                                                                 \n",
            " max_pooling2d_2 (MaxPoolin  (None, 17, 17, 64)        0         \n",
            " g2D)                                                            \n",
            "                                                                 \n",
            " dropout_2 (Dropout)         (None, 17, 17, 64)        0         \n",
            "                                                                 \n",
            " flatten (Flatten)           (None, 18496)             0         \n",
            "                                                                 \n",
            " dense (Dense)               (None, 64)                1183808   \n",
            "                                                                 \n",
            " dropout_3 (Dropout)         (None, 64)                0         \n",
            "                                                                 \n",
            " dense_1 (Dense)             (None, 1)                 65        \n",
            "                                                                 \n",
            "=================================================================\n",
            "Total params: 1212513 (4.63 MB)\n",
            "Trainable params: 1212513 (4.63 MB)\n",
            "Non-trainable params: 0 (0.00 Byte)\n",
            "_________________________________________________________________\n"
          ]
        }
      ],
      "source": [
        "from keras.models import Sequential\n",
        "from keras.layers import Conv2D, MaxPooling2D, Dropout, Flatten, Dense\n",
        "from keras import optimizers\n",
        "\n",
        "# モデルを構築/Seqentialモデルのインスタンスを作成\n",
        "model = Sequential()\n",
        "\n",
        "# （第1層）畳み込み層/addメソッドでレイヤを追加\n",
        "model.add(\n",
        "    Conv2D(\n",
        "        filters=32,                # フィルターの数は32\n",
        "        kernel_size=(3, 3),        # 3×3のフィルターを使用\n",
        "        input_shape=(150, 150, 3), # 入力データの形状\n",
        "        padding='same',            # ゼロパディングを行う\n",
        "        activation='relu'          # 活性化関数はReLU\n",
        "        ))\n",
        "# （第2層）プーリング層\n",
        "model.add(\n",
        "    MaxPooling2D(pool_size=(2, 2))\n",
        ")\n",
        "# ドロップアウト25％\n",
        "model.add(Dropout(0.25))\n",
        "\n",
        "# （第3層）畳み込み層\n",
        "model.add(\n",
        "    Conv2D(\n",
        "        filters=32,            # フィルターの数は32\n",
        "        kernel_size=(3, 3),    # 3×3のフィルターを使用\n",
        "        activation='relu'      # 活性化関数はReLU\n",
        "        ))\n",
        "# （第4層）プーリング層\n",
        "model.add(\n",
        "    MaxPooling2D(pool_size=(2, 2))\n",
        ")\n",
        "# ドロップアウト25％\n",
        "model.add(Dropout(0.25))\n",
        "\n",
        "# （第5層）畳み込み層\n",
        "model.add(\n",
        "    Conv2D(filters=64,         # フィルターの数は64\n",
        "           kernel_size=(3, 3), # 3×3のフィルターを使用\n",
        "           activation='relu'   # 活性化関数はReLU\n",
        "          ))\n",
        "# （第6層）プーリング層\n",
        "model.add(\n",
        "    MaxPooling2D(pool_size=(2, 2)))\n",
        "# ドロップアウト25％\n",
        "model.add(Dropout(0.25))\n",
        "\n",
        "# 出力層への入力を4階テンソルから2階テンソルに変換する\n",
        "model.add(Flatten())\n",
        "\n",
        "# （第7層）全結合層\n",
        "model.add(\n",
        "    Dense(64,                  # ニューロン数は64\n",
        "          activation='relu'))  # 活性化関数はReLU\n",
        "# ドロップアウト50％\n",
        "model.add(Dropout(0.5))\n",
        "\n",
        "# （第8層）出力層\n",
        "model.add(\n",
        "    Dense(\n",
        "        1,                     # ニューロン数は1個\n",
        "        activation='sigmoid')) # 活性化関数はsigmoid\n",
        "\n",
        "# モデルのコンパイル\n",
        "model.compile(\n",
        "    loss='binary_crossentropy', # バイナリ用の交差エントロピー誤差\n",
        "    metrics=['accuracy'],       # 学習評価として正解率を指定\n",
        "    # Adamアルゴリズムで最適化\n",
        "    optimizer=optimizers.Adam(),\n",
        ")\n",
        "\n",
        "# モデルのサマリを表示\n",
        "model.summary()"
      ]
    },
    {
      "cell_type": "markdown",
      "source": [
        "Sequentialモデルのメソッド: https://keras.io/ja/models/sequential/\n",
        "\n",
        "ImageDataGeneratorを使った学習\n",
        "* ImageDataGeneratorを利用して学習を行うには、model.fit_generator()を使います。\n",
        "* fit_generator: https://keras.io/ja/models/model/"
      ],
      "metadata": {
        "id": "lzXUaE7Rh8Io"
      }
    },
    {
      "cell_type": "code",
      "execution_count": null,
      "metadata": {
        "scrolled": true,
        "colab": {
          "base_uri": "https://localhost:8080/"
        },
        "id": "39x5XiIPL2lJ",
        "outputId": "a3fda9bd-72f1-4cee-b5c4-40aefb06a3f7"
      },
      "outputs": [
        {
          "output_type": "stream",
          "name": "stderr",
          "text": [
            "<ipython-input-5-fcec4d70183c>:5: UserWarning: `Model.fit_generator` is deprecated and will be removed in a future version. Please use `Model.fit`, which supports generators.\n",
            "  history = model.fit_generator(\n"
          ]
        },
        {
          "output_type": "stream",
          "name": "stdout",
          "text": [
            "Epoch 1/60\n",
            "63/63 [==============================] - 884s 14s/step - loss: 0.7073 - accuracy: 0.4960 - val_loss: 0.6917 - val_accuracy: 0.5713\n",
            "Epoch 2/60\n",
            "63/63 [==============================] - 20s 319ms/step - loss: 0.6867 - accuracy: 0.5340 - val_loss: 0.6920 - val_accuracy: 0.5638\n",
            "Epoch 3/60\n",
            "63/63 [==============================] - 21s 335ms/step - loss: 0.6917 - accuracy: 0.5250 - val_loss: 0.6926 - val_accuracy: 0.5500\n",
            "Epoch 4/60\n",
            "63/63 [==============================] - 21s 328ms/step - loss: 0.6928 - accuracy: 0.5145 - val_loss: 0.6893 - val_accuracy: 0.5750\n",
            "Epoch 5/60\n",
            "63/63 [==============================] - 20s 319ms/step - loss: 0.6784 - accuracy: 0.5610 - val_loss: 0.6870 - val_accuracy: 0.5850\n",
            "Epoch 6/60\n",
            "63/63 [==============================] - 21s 333ms/step - loss: 0.6780 - accuracy: 0.5715 - val_loss: 0.6654 - val_accuracy: 0.5650\n",
            "Epoch 7/60\n",
            "63/63 [==============================] - 20s 311ms/step - loss: 0.6740 - accuracy: 0.5725 - val_loss: 0.6622 - val_accuracy: 0.5863\n",
            "Epoch 8/60\n",
            "63/63 [==============================] - 23s 360ms/step - loss: 0.6602 - accuracy: 0.5895 - val_loss: 0.6485 - val_accuracy: 0.6250\n",
            "Epoch 9/60\n",
            "63/63 [==============================] - 20s 322ms/step - loss: 0.6545 - accuracy: 0.6405 - val_loss: 0.6410 - val_accuracy: 0.6050\n",
            "Epoch 10/60\n",
            "63/63 [==============================] - 19s 305ms/step - loss: 0.6425 - accuracy: 0.6310 - val_loss: 0.6363 - val_accuracy: 0.6325\n",
            "Epoch 11/60\n",
            "63/63 [==============================] - 19s 306ms/step - loss: 0.6337 - accuracy: 0.6510 - val_loss: 0.6359 - val_accuracy: 0.6112\n",
            "Epoch 12/60\n",
            "63/63 [==============================] - 20s 314ms/step - loss: 0.6116 - accuracy: 0.6520 - val_loss: 0.6092 - val_accuracy: 0.6375\n",
            "Epoch 13/60\n",
            "63/63 [==============================] - 20s 311ms/step - loss: 0.5903 - accuracy: 0.6925 - val_loss: 0.5570 - val_accuracy: 0.7212\n",
            "Epoch 14/60\n",
            "63/63 [==============================] - 20s 325ms/step - loss: 0.6098 - accuracy: 0.6680 - val_loss: 0.5708 - val_accuracy: 0.6862\n",
            "Epoch 15/60\n",
            "63/63 [==============================] - 19s 306ms/step - loss: 0.5733 - accuracy: 0.7095 - val_loss: 0.5485 - val_accuracy: 0.7212\n",
            "Epoch 16/60\n",
            "63/63 [==============================] - 22s 355ms/step - loss: 0.5717 - accuracy: 0.7085 - val_loss: 0.5663 - val_accuracy: 0.6850\n",
            "Epoch 17/60\n",
            "63/63 [==============================] - 20s 310ms/step - loss: 0.5628 - accuracy: 0.7230 - val_loss: 0.5302 - val_accuracy: 0.7513\n",
            "Epoch 18/60\n",
            "63/63 [==============================] - 20s 319ms/step - loss: 0.5393 - accuracy: 0.7285 - val_loss: 0.5332 - val_accuracy: 0.7113\n",
            "Epoch 19/60\n",
            "63/63 [==============================] - 19s 307ms/step - loss: 0.5457 - accuracy: 0.7195 - val_loss: 0.5712 - val_accuracy: 0.6938\n",
            "Epoch 20/60\n",
            "63/63 [==============================] - 19s 308ms/step - loss: 0.5407 - accuracy: 0.7255 - val_loss: 0.5245 - val_accuracy: 0.7212\n",
            "Epoch 21/60\n",
            "63/63 [==============================] - 21s 326ms/step - loss: 0.5134 - accuracy: 0.7400 - val_loss: 0.5359 - val_accuracy: 0.7450\n",
            "Epoch 22/60\n",
            "63/63 [==============================] - 19s 308ms/step - loss: 0.5243 - accuracy: 0.7495 - val_loss: 0.5101 - val_accuracy: 0.7312\n",
            "Epoch 23/60\n",
            "63/63 [==============================] - 19s 306ms/step - loss: 0.5151 - accuracy: 0.7540 - val_loss: 0.5267 - val_accuracy: 0.7325\n",
            "Epoch 24/60\n",
            "63/63 [==============================] - 21s 335ms/step - loss: 0.5140 - accuracy: 0.7505 - val_loss: 0.5032 - val_accuracy: 0.7450\n",
            "Epoch 25/60\n",
            "63/63 [==============================] - 20s 321ms/step - loss: 0.5048 - accuracy: 0.7510 - val_loss: 0.4982 - val_accuracy: 0.7600\n",
            "Epoch 26/60\n",
            "63/63 [==============================] - 21s 332ms/step - loss: 0.5013 - accuracy: 0.7630 - val_loss: 0.4792 - val_accuracy: 0.7625\n",
            "Epoch 27/60\n",
            "63/63 [==============================] - 19s 307ms/step - loss: 0.5025 - accuracy: 0.7605 - val_loss: 0.5169 - val_accuracy: 0.7412\n",
            "Epoch 28/60\n",
            "63/63 [==============================] - 19s 310ms/step - loss: 0.4911 - accuracy: 0.7675 - val_loss: 0.4946 - val_accuracy: 0.7550\n",
            "Epoch 29/60\n",
            "63/63 [==============================] - 21s 328ms/step - loss: 0.4959 - accuracy: 0.7610 - val_loss: 0.4916 - val_accuracy: 0.7625\n",
            "Epoch 30/60\n",
            "63/63 [==============================] - 19s 304ms/step - loss: 0.4796 - accuracy: 0.7700 - val_loss: 0.4789 - val_accuracy: 0.7625\n",
            "Epoch 31/60\n",
            "63/63 [==============================] - 19s 307ms/step - loss: 0.4661 - accuracy: 0.7770 - val_loss: 0.5399 - val_accuracy: 0.7237\n",
            "Epoch 32/60\n",
            "63/63 [==============================] - 20s 321ms/step - loss: 0.4591 - accuracy: 0.7845 - val_loss: 0.4846 - val_accuracy: 0.7575\n",
            "Epoch 33/60\n",
            "63/63 [==============================] - 19s 308ms/step - loss: 0.4603 - accuracy: 0.7790 - val_loss: 0.4768 - val_accuracy: 0.7538\n",
            "Epoch 34/60\n",
            "63/63 [==============================] - 21s 329ms/step - loss: 0.4406 - accuracy: 0.7815 - val_loss: 0.4687 - val_accuracy: 0.7588\n",
            "Epoch 35/60\n",
            "63/63 [==============================] - 20s 311ms/step - loss: 0.4499 - accuracy: 0.7895 - val_loss: 0.4898 - val_accuracy: 0.7475\n",
            "Epoch 36/60\n",
            "63/63 [==============================] - 21s 332ms/step - loss: 0.4455 - accuracy: 0.7865 - val_loss: 0.4668 - val_accuracy: 0.7550\n",
            "Epoch 37/60\n",
            "63/63 [==============================] - 20s 314ms/step - loss: 0.4468 - accuracy: 0.7770 - val_loss: 0.4666 - val_accuracy: 0.7688\n",
            "Epoch 38/60\n",
            "63/63 [==============================] - 21s 333ms/step - loss: 0.4299 - accuracy: 0.7945 - val_loss: 0.4915 - val_accuracy: 0.7713\n",
            "Epoch 39/60\n",
            "63/63 [==============================] - 20s 321ms/step - loss: 0.4231 - accuracy: 0.8030 - val_loss: 0.4778 - val_accuracy: 0.7675\n",
            "Epoch 40/60\n",
            "63/63 [==============================] - 20s 325ms/step - loss: 0.4211 - accuracy: 0.8090 - val_loss: 0.5397 - val_accuracy: 0.7300\n",
            "Epoch 41/60\n",
            "63/63 [==============================] - 21s 324ms/step - loss: 0.4316 - accuracy: 0.8010 - val_loss: 0.4683 - val_accuracy: 0.7700\n",
            "Epoch 42/60\n",
            "63/63 [==============================] - 20s 315ms/step - loss: 0.4092 - accuracy: 0.8035 - val_loss: 0.4740 - val_accuracy: 0.7600\n",
            "Epoch 43/60\n",
            "63/63 [==============================] - 22s 346ms/step - loss: 0.4213 - accuracy: 0.8085 - val_loss: 0.4795 - val_accuracy: 0.7713\n",
            "Epoch 44/60\n",
            "63/63 [==============================] - 20s 313ms/step - loss: 0.4046 - accuracy: 0.8105 - val_loss: 0.4577 - val_accuracy: 0.7825\n",
            "Epoch 45/60\n",
            "63/63 [==============================] - 20s 325ms/step - loss: 0.3853 - accuracy: 0.8235 - val_loss: 0.4938 - val_accuracy: 0.7663\n",
            "Epoch 46/60\n",
            "63/63 [==============================] - 20s 316ms/step - loss: 0.3934 - accuracy: 0.8165 - val_loss: 0.4757 - val_accuracy: 0.7750\n",
            "Epoch 47/60\n",
            "63/63 [==============================] - 22s 357ms/step - loss: 0.3851 - accuracy: 0.8255 - val_loss: 0.4581 - val_accuracy: 0.7825\n",
            "Epoch 48/60\n",
            "63/63 [==============================] - 20s 311ms/step - loss: 0.3800 - accuracy: 0.8250 - val_loss: 0.4955 - val_accuracy: 0.7575\n",
            "Epoch 49/60\n",
            "63/63 [==============================] - 20s 314ms/step - loss: 0.3759 - accuracy: 0.8335 - val_loss: 0.4571 - val_accuracy: 0.7812\n",
            "Epoch 50/60\n",
            "63/63 [==============================] - 19s 310ms/step - loss: 0.3872 - accuracy: 0.8320 - val_loss: 0.4715 - val_accuracy: 0.7688\n",
            "Epoch 51/60\n",
            "63/63 [==============================] - 20s 316ms/step - loss: 0.3903 - accuracy: 0.8215 - val_loss: 0.4744 - val_accuracy: 0.7663\n",
            "Epoch 52/60\n",
            "63/63 [==============================] - 21s 325ms/step - loss: 0.3718 - accuracy: 0.8165 - val_loss: 0.4344 - val_accuracy: 0.7887\n",
            "Epoch 53/60\n",
            "63/63 [==============================] - 20s 310ms/step - loss: 0.3707 - accuracy: 0.8270 - val_loss: 0.4807 - val_accuracy: 0.7750\n",
            "Epoch 54/60\n",
            "63/63 [==============================] - 19s 302ms/step - loss: 0.3813 - accuracy: 0.8245 - val_loss: 0.4458 - val_accuracy: 0.7875\n",
            "Epoch 55/60\n",
            "63/63 [==============================] - 20s 325ms/step - loss: 0.3733 - accuracy: 0.8275 - val_loss: 0.4800 - val_accuracy: 0.7738\n",
            "Epoch 56/60\n",
            "63/63 [==============================] - 19s 302ms/step - loss: 0.3855 - accuracy: 0.8310 - val_loss: 0.4729 - val_accuracy: 0.7638\n",
            "Epoch 57/60\n",
            "63/63 [==============================] - 19s 308ms/step - loss: 0.3808 - accuracy: 0.8340 - val_loss: 0.4495 - val_accuracy: 0.7775\n",
            "Epoch 58/60\n",
            "63/63 [==============================] - 19s 306ms/step - loss: 0.3413 - accuracy: 0.8445 - val_loss: 0.4829 - val_accuracy: 0.7825\n",
            "Epoch 59/60\n",
            "63/63 [==============================] - 19s 295ms/step - loss: 0.3675 - accuracy: 0.8345 - val_loss: 0.4607 - val_accuracy: 0.7763\n",
            "Epoch 60/60\n",
            "63/63 [==============================] - 20s 321ms/step - loss: 0.3475 - accuracy: 0.8485 - val_loss: 0.4926 - val_accuracy: 0.7663\n"
          ]
        }
      ],
      "source": [
        "epochs = 60             # 学習回数\n",
        "batch_size = batch_size # 設定済みのミニバッチのサイズ\n",
        "\n",
        "# 学習を行う\n",
        "history = model.fit_generator(\n",
        "    train_generator,    # 訓練データ\n",
        "    epochs=epochs,      # 学習回数\n",
        "    verbose=1,          # 学習の進捗状況を出力する\n",
        "    # テストデータ\n",
        "    validation_data=validation_generator,\n",
        ")"
      ]
    },
    {
      "cell_type": "markdown",
      "source": [
        "テストデータによるネコとイヌの識別は、正解率が76.6%。データ拡張しても精度は低い。"
      ],
      "metadata": {
        "id": "8C0QKLPzY8D7"
      }
    }
  ],
  "metadata": {
    "kernelspec": {
      "display_name": "Python 3",
      "name": "python3"
    },
    "language_info": {
      "codemirror_mode": {
        "name": "ipython",
        "version": 3
      },
      "file_extension": ".py",
      "mimetype": "text/x-python",
      "name": "python",
      "nbconvert_exporter": "python",
      "pygments_lexer": "ipython3",
      "version": "3.6.7"
    },
    "colab": {
      "provenance": [],
      "gpuType": "T4",
      "include_colab_link": true
    },
    "accelerator": "GPU"
  },
  "nbformat": 4,
  "nbformat_minor": 0
}