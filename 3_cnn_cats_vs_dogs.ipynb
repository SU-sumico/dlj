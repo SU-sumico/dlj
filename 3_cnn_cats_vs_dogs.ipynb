{
  "cells": [
    {
      "cell_type": "markdown",
      "metadata": {
        "id": "view-in-github",
        "colab_type": "text"
      },
      "source": [
        "<a href=\"https://colab.research.google.com/github/SU-sumico/dlj/blob/main/3_cnn_cats_vs_dogs.ipynb\" target=\"_parent\"><img src=\"https://colab.research.google.com/assets/colab-badge.svg\" alt=\"Open In Colab\"/></a>"
      ]
    },
    {
      "cell_type": "markdown",
      "source": [
        "目的\n",
        "* ネコとイヌの画像データと畳み込みニューラルネットワーク（CNN）を用いて分類を行う。"
      ],
      "metadata": {
        "id": "rS5eLi3xaLbH"
      }
    },
    {
      "cell_type": "markdown",
      "source": [
        "準備\n",
        "* GPUを用いて処理を行うために、上部のメニューバーの「ランタイム」→「ランタイムのタイプを変更」からハードウェアアクセラレータをGPUにしてください。"
      ],
      "metadata": {
        "id": "Z1ZyHmVOafjz"
      }
    },
    {
      "cell_type": "markdown",
      "source": [
        "使用するデータセット\n",
        "* データセットは、RGBカラーの画像、ネコとイヌのクラスに分類されています。\n",
        "https://www.kaggle.com/datasets/karakaggle/kaggle-cat-vs-dog-dataset?resource=download"
      ],
      "metadata": {
        "id": "_V3EGCsRamaY"
      }
    },
    {
      "cell_type": "code",
      "source": [
        "from google.colab import drive\n",
        "drive.mount('/content/drive')"
      ],
      "metadata": {
        "colab": {
          "base_uri": "https://localhost:8080/"
        },
        "id": "jCwdav0-L67K",
        "outputId": "de26d086-d6f9-432d-ba65-7e2e6ce4609d"
      },
      "execution_count": 1,
      "outputs": [
        {
          "output_type": "stream",
          "name": "stdout",
          "text": [
            "Mounted at /content/drive\n"
          ]
        }
      ]
    },
    {
      "cell_type": "code",
      "execution_count": 2,
      "metadata": {
        "colab": {
          "base_uri": "https://localhost:8080/"
        },
        "id": "3JsJZvKrL2lE",
        "outputId": "183c07aa-a7c5-48a2-ed28-e99d9d5e7551"
      },
      "outputs": [
        {
          "output_type": "stream",
          "name": "stdout",
          "text": [
            "Found 2000 images belonging to 2 classes.\n",
            "Found 800 images belonging to 2 classes.\n"
          ]
        }
      ],
      "source": [
        "from keras.preprocessing.image import ImageDataGenerator\n",
        "\n",
        "img_w, img_h = 150, 150        # 画像をリサイズするときのサイズ\n",
        "batch_size = 32                # ミニバッチのサイズ\n",
        "\n",
        "# 訓練データを読み込んで加工するジェネレーターを生成\n",
        "train_datagen = ImageDataGenerator(\n",
        "    rescale=1.0 / 255,         # RGB値を0～1の範囲に変換\n",
        "    rotation_range=15,         # 15度の範囲でランダムに回転させる\n",
        "    zoom_range=0.2,            # ランダムに拡大\n",
        "    horizontal_flip=True       # 水平方向にランダムに反転\n",
        "    )\n",
        "\n",
        "# テストデータを読み込むジェネレーターを生成\n",
        "test_datagen = ImageDataGenerator(rescale=1.0 / 255)\n",
        "\n",
        "# 訓練データをミニバッチの数だけ生成\n",
        "train_generator = train_datagen.flow_from_directory(\n",
        "    '/content/drive/MyDrive/Deep learning/3data/train',               # 訓練データのフォルダー\n",
        "    target_size=(img_w, img_h), # 画像をリサイズ\n",
        "    batch_size=batch_size,      # ミニバッチのサイズ\n",
        "    class_mode='binary')        # 二値分類なのでbinaryを指定\n",
        "\n",
        "# テストデータをミニバッチの数だけ生成\n",
        "validation_generator = test_datagen.flow_from_directory(\n",
        "    '/content/drive/MyDrive/Deep learning/3data/validation',          # テストデータのフォルダー\n",
        "    target_size=(img_w, img_h), # 画像をリサイズ\n",
        "    batch_size=batch_size,      # ミニバッチのサイズ\n",
        "    class_mode='binary')        # 二値分類なのでbinaryを指定"
      ]
    },
    {
      "cell_type": "code",
      "execution_count": 3,
      "metadata": {
        "colab": {
          "base_uri": "https://localhost:8080/"
        },
        "id": "G7p6eGCqL2lI",
        "outputId": "a40eedc7-b157-4d02-aeac-69b58472ce45"
      },
      "outputs": [
        {
          "output_type": "stream",
          "name": "stdout",
          "text": [
            "{'cats': 0, 'dogs': 1}\n",
            "{'cats': 0, 'dogs': 1}\n"
          ]
        }
      ],
      "source": [
        "# 正解ラベルを確認\n",
        "print(train_generator.class_indices)\n",
        "print(validation_generator.class_indices)"
      ]
    },
    {
      "cell_type": "code",
      "execution_count": 4,
      "metadata": {
        "colab": {
          "base_uri": "https://localhost:8080/"
        },
        "id": "sTtsiR_tL2lI",
        "outputId": "2c99f3f5-9f93-430f-fe95-294809b2c20c"
      },
      "outputs": [
        {
          "output_type": "stream",
          "name": "stdout",
          "text": [
            "Model: \"sequential\"\n",
            "_________________________________________________________________\n",
            " Layer (type)                Output Shape              Param #   \n",
            "=================================================================\n",
            " conv2d (Conv2D)             (None, 150, 150, 32)      896       \n",
            "                                                                 \n",
            " max_pooling2d (MaxPooling2  (None, 75, 75, 32)        0         \n",
            " D)                                                              \n",
            "                                                                 \n",
            " dropout (Dropout)           (None, 75, 75, 32)        0         \n",
            "                                                                 \n",
            " conv2d_1 (Conv2D)           (None, 73, 73, 32)        9248      \n",
            "                                                                 \n",
            " max_pooling2d_1 (MaxPoolin  (None, 36, 36, 32)        0         \n",
            " g2D)                                                            \n",
            "                                                                 \n",
            " dropout_1 (Dropout)         (None, 36, 36, 32)        0         \n",
            "                                                                 \n",
            " conv2d_2 (Conv2D)           (None, 34, 34, 64)        18496     \n",
            "                                                                 \n",
            " max_pooling2d_2 (MaxPoolin  (None, 17, 17, 64)        0         \n",
            " g2D)                                                            \n",
            "                                                                 \n",
            " dropout_2 (Dropout)         (None, 17, 17, 64)        0         \n",
            "                                                                 \n",
            " flatten (Flatten)           (None, 18496)             0         \n",
            "                                                                 \n",
            " dense (Dense)               (None, 64)                1183808   \n",
            "                                                                 \n",
            " dropout_3 (Dropout)         (None, 64)                0         \n",
            "                                                                 \n",
            " dense_1 (Dense)             (None, 1)                 65        \n",
            "                                                                 \n",
            "=================================================================\n",
            "Total params: 1212513 (4.63 MB)\n",
            "Trainable params: 1212513 (4.63 MB)\n",
            "Non-trainable params: 0 (0.00 Byte)\n",
            "_________________________________________________________________\n"
          ]
        }
      ],
      "source": [
        "from keras.models import Sequential\n",
        "from keras.layers import Conv2D, MaxPooling2D, Dropout, Flatten, Dense\n",
        "from keras import optimizers\n",
        "\n",
        "# モデルを構築\n",
        "model = Sequential()\n",
        "\n",
        "# （第1層）畳み込み層\n",
        "model.add(\n",
        "    Conv2D(\n",
        "        filters=32,                # フィルターの数は32\n",
        "        kernel_size=(3, 3),        # 3×3のフィルターを使用\n",
        "        input_shape=(150, 150, 3), # 入力データの形状\n",
        "        padding='same',            # ゼロパディングを行う\n",
        "        activation='relu'          # 活性化関数はReLU\n",
        "        ))\n",
        "# （第2層）プーリング層\n",
        "model.add(\n",
        "    MaxPooling2D(pool_size=(2, 2))\n",
        ")\n",
        "# ドロップアウト25％\n",
        "model.add(Dropout(0.25))\n",
        "\n",
        "# （第3層）畳み込み層\n",
        "model.add(\n",
        "    Conv2D(\n",
        "        filters=32,            # フィルターの数は32\n",
        "        kernel_size=(3, 3),    # 3×3のフィルターを使用\n",
        "        activation='relu'      # 活性化関数はReLU\n",
        "        ))\n",
        "# （第4層）プーリング層\n",
        "model.add(\n",
        "    MaxPooling2D(pool_size=(2, 2))\n",
        ")\n",
        "# ドロップアウト25％\n",
        "model.add(Dropout(0.25))\n",
        "\n",
        "# （第5層）畳み込み層\n",
        "model.add(\n",
        "    Conv2D(filters=64,         # フィルターの数は64\n",
        "           kernel_size=(3, 3), # 3×3のフィルターを使用\n",
        "           activation='relu'   # 活性化関数はReLU\n",
        "          ))\n",
        "# （第6層）プーリング層\n",
        "model.add(\n",
        "    MaxPooling2D(pool_size=(2, 2)))\n",
        "# ドロップアウト25％\n",
        "model.add(Dropout(0.25))\n",
        "\n",
        "# 出力層への入力を4階テンソルから2階テンソルに変換する\n",
        "model.add(Flatten())\n",
        "\n",
        "# （第7層）全結合層\n",
        "model.add(\n",
        "    Dense(64,                  # ニューロン数は64\n",
        "          activation='relu'))  # 活性化関数はReLU\n",
        "# ドロップアウト50％\n",
        "model.add(Dropout(0.5))\n",
        "\n",
        "# （第8層）出力層\n",
        "model.add(\n",
        "    Dense(\n",
        "        1,                     # ニューロン数は1個\n",
        "        activation='sigmoid')) # 活性化関数はsigmoid\n",
        "\n",
        "# モデルのコンパイル\n",
        "model.compile(\n",
        "    loss='binary_crossentropy', # バイナリ用の交差エントロピー誤差\n",
        "    metrics=['accuracy'],       # 学習評価として正解率を指定\n",
        "    # Adamアルゴリズムで最適化\n",
        "    optimizer=optimizers.Adam(),\n",
        ")\n",
        "\n",
        "# モデルのサマリを表示\n",
        "model.summary()"
      ]
    },
    {
      "cell_type": "code",
      "execution_count": 5,
      "metadata": {
        "scrolled": true,
        "colab": {
          "base_uri": "https://localhost:8080/"
        },
        "id": "39x5XiIPL2lJ",
        "outputId": "0c97b4b2-bf71-46f0-dd6e-a15f8af14095"
      },
      "outputs": [
        {
          "output_type": "stream",
          "name": "stderr",
          "text": [
            "<ipython-input-5-fcec4d70183c>:5: UserWarning: `Model.fit_generator` is deprecated and will be removed in a future version. Please use `Model.fit`, which supports generators.\n",
            "  history = model.fit_generator(\n"
          ]
        },
        {
          "output_type": "stream",
          "name": "stdout",
          "text": [
            "Epoch 1/60\n",
            "63/63 [==============================] - 666s 11s/step - loss: 0.7225 - accuracy: 0.4950 - val_loss: 0.6927 - val_accuracy: 0.5000\n",
            "Epoch 2/60\n",
            "63/63 [==============================] - 22s 346ms/step - loss: 0.6919 - accuracy: 0.4930 - val_loss: 0.6904 - val_accuracy: 0.5500\n",
            "Epoch 3/60\n",
            "63/63 [==============================] - 19s 297ms/step - loss: 0.6866 - accuracy: 0.5240 - val_loss: 0.6706 - val_accuracy: 0.5325\n",
            "Epoch 4/60\n",
            "63/63 [==============================] - 20s 318ms/step - loss: 0.6891 - accuracy: 0.5365 - val_loss: 0.6896 - val_accuracy: 0.5362\n",
            "Epoch 5/60\n",
            "63/63 [==============================] - 19s 305ms/step - loss: 0.6642 - accuracy: 0.5570 - val_loss: 0.6551 - val_accuracy: 0.6037\n",
            "Epoch 6/60\n",
            "63/63 [==============================] - 20s 311ms/step - loss: 0.6562 - accuracy: 0.5935 - val_loss: 0.6466 - val_accuracy: 0.6200\n",
            "Epoch 7/60\n",
            "63/63 [==============================] - 20s 317ms/step - loss: 0.6505 - accuracy: 0.6070 - val_loss: 0.6458 - val_accuracy: 0.6438\n",
            "Epoch 8/60\n",
            "63/63 [==============================] - 20s 315ms/step - loss: 0.6621 - accuracy: 0.5940 - val_loss: 0.6506 - val_accuracy: 0.6338\n",
            "Epoch 9/60\n",
            "63/63 [==============================] - 21s 331ms/step - loss: 0.6319 - accuracy: 0.6430 - val_loss: 0.6384 - val_accuracy: 0.6288\n",
            "Epoch 10/60\n",
            "63/63 [==============================] - 19s 307ms/step - loss: 0.6386 - accuracy: 0.6200 - val_loss: 0.6750 - val_accuracy: 0.5763\n",
            "Epoch 11/60\n",
            "63/63 [==============================] - 22s 353ms/step - loss: 0.6633 - accuracy: 0.5845 - val_loss: 0.6546 - val_accuracy: 0.5938\n",
            "Epoch 12/60\n",
            "63/63 [==============================] - 19s 299ms/step - loss: 0.6285 - accuracy: 0.6565 - val_loss: 0.5888 - val_accuracy: 0.6862\n",
            "Epoch 13/60\n",
            "63/63 [==============================] - 20s 320ms/step - loss: 0.6066 - accuracy: 0.6560 - val_loss: 0.6276 - val_accuracy: 0.6513\n",
            "Epoch 14/60\n",
            "63/63 [==============================] - 19s 309ms/step - loss: 0.6084 - accuracy: 0.6710 - val_loss: 0.5788 - val_accuracy: 0.7163\n",
            "Epoch 15/60\n",
            "63/63 [==============================] - 20s 311ms/step - loss: 0.5952 - accuracy: 0.6760 - val_loss: 0.6177 - val_accuracy: 0.6400\n",
            "Epoch 16/60\n",
            "63/63 [==============================] - 20s 316ms/step - loss: 0.6078 - accuracy: 0.6845 - val_loss: 0.5996 - val_accuracy: 0.6687\n",
            "Epoch 17/60\n",
            "63/63 [==============================] - 20s 312ms/step - loss: 0.5749 - accuracy: 0.7005 - val_loss: 0.5596 - val_accuracy: 0.7075\n",
            "Epoch 18/60\n",
            "63/63 [==============================] - 20s 325ms/step - loss: 0.5584 - accuracy: 0.7245 - val_loss: 0.5493 - val_accuracy: 0.7175\n",
            "Epoch 19/60\n",
            "63/63 [==============================] - 19s 304ms/step - loss: 0.5592 - accuracy: 0.7170 - val_loss: 0.5719 - val_accuracy: 0.6800\n",
            "Epoch 20/60\n",
            "63/63 [==============================] - 19s 307ms/step - loss: 0.5493 - accuracy: 0.7185 - val_loss: 0.5582 - val_accuracy: 0.6900\n",
            "Epoch 21/60\n",
            "63/63 [==============================] - 20s 314ms/step - loss: 0.5452 - accuracy: 0.7195 - val_loss: 0.5560 - val_accuracy: 0.7225\n",
            "Epoch 22/60\n",
            "63/63 [==============================] - 19s 305ms/step - loss: 0.5534 - accuracy: 0.7295 - val_loss: 0.5314 - val_accuracy: 0.7188\n",
            "Epoch 23/60\n",
            "63/63 [==============================] - 20s 319ms/step - loss: 0.5257 - accuracy: 0.7440 - val_loss: 0.5305 - val_accuracy: 0.7125\n",
            "Epoch 24/60\n",
            "63/63 [==============================] - 19s 309ms/step - loss: 0.5228 - accuracy: 0.7395 - val_loss: 0.5381 - val_accuracy: 0.7063\n",
            "Epoch 25/60\n",
            "63/63 [==============================] - 19s 307ms/step - loss: 0.5087 - accuracy: 0.7525 - val_loss: 0.5058 - val_accuracy: 0.7300\n",
            "Epoch 26/60\n",
            "63/63 [==============================] - 20s 320ms/step - loss: 0.5071 - accuracy: 0.7445 - val_loss: 0.4999 - val_accuracy: 0.7400\n",
            "Epoch 27/60\n",
            "63/63 [==============================] - 19s 303ms/step - loss: 0.5005 - accuracy: 0.7620 - val_loss: 0.5097 - val_accuracy: 0.7475\n",
            "Epoch 28/60\n",
            "63/63 [==============================] - 21s 327ms/step - loss: 0.5001 - accuracy: 0.7665 - val_loss: 0.5207 - val_accuracy: 0.7350\n",
            "Epoch 29/60\n",
            "63/63 [==============================] - 22s 342ms/step - loss: 0.4929 - accuracy: 0.7625 - val_loss: 0.5403 - val_accuracy: 0.7150\n",
            "Epoch 30/60\n",
            "63/63 [==============================] - 19s 309ms/step - loss: 0.4909 - accuracy: 0.7670 - val_loss: 0.4949 - val_accuracy: 0.7538\n",
            "Epoch 31/60\n",
            "63/63 [==============================] - 22s 356ms/step - loss: 0.4766 - accuracy: 0.7780 - val_loss: 0.5172 - val_accuracy: 0.7375\n",
            "Epoch 32/60\n",
            "63/63 [==============================] - 20s 321ms/step - loss: 0.4837 - accuracy: 0.7670 - val_loss: 0.5032 - val_accuracy: 0.7500\n",
            "Epoch 33/60\n",
            "63/63 [==============================] - 19s 302ms/step - loss: 0.4871 - accuracy: 0.7765 - val_loss: 0.5161 - val_accuracy: 0.7287\n",
            "Epoch 34/60\n",
            "63/63 [==============================] - 19s 308ms/step - loss: 0.4589 - accuracy: 0.7835 - val_loss: 0.5172 - val_accuracy: 0.7487\n",
            "Epoch 35/60\n",
            "63/63 [==============================] - 20s 314ms/step - loss: 0.4653 - accuracy: 0.7815 - val_loss: 0.4961 - val_accuracy: 0.7550\n",
            "Epoch 36/60\n",
            "63/63 [==============================] - 19s 305ms/step - loss: 0.4443 - accuracy: 0.7910 - val_loss: 0.4856 - val_accuracy: 0.7638\n",
            "Epoch 37/60\n",
            "63/63 [==============================] - 21s 332ms/step - loss: 0.4443 - accuracy: 0.7950 - val_loss: 0.5000 - val_accuracy: 0.7550\n",
            "Epoch 38/60\n",
            "63/63 [==============================] - 20s 318ms/step - loss: 0.4538 - accuracy: 0.7980 - val_loss: 0.4795 - val_accuracy: 0.7725\n",
            "Epoch 39/60\n",
            "63/63 [==============================] - 19s 309ms/step - loss: 0.4487 - accuracy: 0.7975 - val_loss: 0.4877 - val_accuracy: 0.7525\n",
            "Epoch 40/60\n",
            "63/63 [==============================] - 21s 328ms/step - loss: 0.4237 - accuracy: 0.7900 - val_loss: 0.4819 - val_accuracy: 0.7650\n",
            "Epoch 41/60\n",
            "63/63 [==============================] - 21s 327ms/step - loss: 0.4316 - accuracy: 0.7920 - val_loss: 0.5161 - val_accuracy: 0.7713\n",
            "Epoch 42/60\n",
            "63/63 [==============================] - 19s 305ms/step - loss: 0.4243 - accuracy: 0.7995 - val_loss: 0.4814 - val_accuracy: 0.7725\n",
            "Epoch 43/60\n",
            "63/63 [==============================] - 19s 306ms/step - loss: 0.4132 - accuracy: 0.7980 - val_loss: 0.5116 - val_accuracy: 0.7613\n",
            "Epoch 44/60\n",
            "63/63 [==============================] - 19s 305ms/step - loss: 0.4152 - accuracy: 0.8020 - val_loss: 0.4916 - val_accuracy: 0.7625\n",
            "Epoch 45/60\n",
            "63/63 [==============================] - 20s 312ms/step - loss: 0.4003 - accuracy: 0.8155 - val_loss: 0.5339 - val_accuracy: 0.7487\n",
            "Epoch 46/60\n",
            "63/63 [==============================] - 20s 311ms/step - loss: 0.4306 - accuracy: 0.7945 - val_loss: 0.4782 - val_accuracy: 0.7700\n",
            "Epoch 47/60\n",
            "63/63 [==============================] - 19s 302ms/step - loss: 0.4099 - accuracy: 0.8105 - val_loss: 0.4795 - val_accuracy: 0.7775\n",
            "Epoch 48/60\n",
            "63/63 [==============================] - 21s 332ms/step - loss: 0.3990 - accuracy: 0.8180 - val_loss: 0.4699 - val_accuracy: 0.7700\n",
            "Epoch 49/60\n",
            "63/63 [==============================] - 20s 320ms/step - loss: 0.3895 - accuracy: 0.8230 - val_loss: 0.4916 - val_accuracy: 0.7738\n",
            "Epoch 50/60\n",
            "63/63 [==============================] - 19s 310ms/step - loss: 0.4036 - accuracy: 0.8255 - val_loss: 0.4743 - val_accuracy: 0.7912\n",
            "Epoch 51/60\n",
            "63/63 [==============================] - 20s 320ms/step - loss: 0.3703 - accuracy: 0.8330 - val_loss: 0.5123 - val_accuracy: 0.7625\n",
            "Epoch 52/60\n",
            "63/63 [==============================] - 19s 305ms/step - loss: 0.3916 - accuracy: 0.8195 - val_loss: 0.4657 - val_accuracy: 0.7962\n",
            "Epoch 53/60\n",
            "63/63 [==============================] - 20s 311ms/step - loss: 0.3770 - accuracy: 0.8335 - val_loss: 0.4867 - val_accuracy: 0.8025\n",
            "Epoch 54/60\n",
            "63/63 [==============================] - 19s 308ms/step - loss: 0.3884 - accuracy: 0.8220 - val_loss: 0.5002 - val_accuracy: 0.7713\n",
            "Epoch 55/60\n",
            "63/63 [==============================] - 20s 314ms/step - loss: 0.3925 - accuracy: 0.8270 - val_loss: 0.4573 - val_accuracy: 0.7887\n",
            "Epoch 56/60\n",
            "63/63 [==============================] - 20s 313ms/step - loss: 0.3721 - accuracy: 0.8320 - val_loss: 0.5199 - val_accuracy: 0.7738\n",
            "Epoch 57/60\n",
            "63/63 [==============================] - 19s 305ms/step - loss: 0.3809 - accuracy: 0.8320 - val_loss: 0.5129 - val_accuracy: 0.7788\n",
            "Epoch 58/60\n",
            "63/63 [==============================] - 21s 334ms/step - loss: 0.3688 - accuracy: 0.8230 - val_loss: 0.4648 - val_accuracy: 0.7887\n",
            "Epoch 59/60\n",
            "63/63 [==============================] - 19s 306ms/step - loss: 0.3642 - accuracy: 0.8465 - val_loss: 0.4725 - val_accuracy: 0.7900\n",
            "Epoch 60/60\n",
            "63/63 [==============================] - 22s 351ms/step - loss: 0.3492 - accuracy: 0.8320 - val_loss: 0.4620 - val_accuracy: 0.7900\n"
          ]
        }
      ],
      "source": [
        "epochs = 60             # 学習回数\n",
        "batch_size = batch_size # 設定済みのミニバッチのサイズ\n",
        "\n",
        "# 学習を行う\n",
        "history = model.fit_generator(\n",
        "    train_generator,    # 訓練データ\n",
        "    epochs=epochs,      # 学習回数\n",
        "    verbose=1,          # 学習の進捗状況を出力する\n",
        "    # テストデータ\n",
        "    validation_data=validation_generator,\n",
        ")"
      ]
    },
    {
      "cell_type": "markdown",
      "source": [
        "テストデータによるネコとイヌの識別は、正解率が77.3%。データ拡張しても精度は低い。"
      ],
      "metadata": {
        "id": "8C0QKLPzY8D7"
      }
    }
  ],
  "metadata": {
    "kernelspec": {
      "display_name": "Python 3",
      "name": "python3"
    },
    "language_info": {
      "codemirror_mode": {
        "name": "ipython",
        "version": 3
      },
      "file_extension": ".py",
      "mimetype": "text/x-python",
      "name": "python",
      "nbconvert_exporter": "python",
      "pygments_lexer": "ipython3",
      "version": "3.6.7"
    },
    "colab": {
      "provenance": [],
      "gpuType": "T4",
      "include_colab_link": true
    },
    "accelerator": "GPU"
  },
  "nbformat": 4,
  "nbformat_minor": 0
}